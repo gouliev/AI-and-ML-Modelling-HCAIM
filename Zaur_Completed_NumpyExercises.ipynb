{
  "cells": [
    {
      "cell_type": "markdown",
      "metadata": {
        "id": "FZ3VcMpYiyFt"
      },
      "source": [
        "___\n",
        "# **NumPy is a Python library** used for working with arrays. It also has functions for working in domain of linear algebra, fourier transform, and matrices. It supports large multi-dimensinal arrays and matrices.\n",
        "\n",
        "## Installation Instructions\n",
        "\n",
        "**It is highly recommended you install Python using the Anaconda distribution to make sure all underlying dependencies (such as Linear Algebra libraries) all sync up with the use of a conda install. If you have Anaconda, install NumPy by going to your terminal or command prompt and typing:**\n",
        "    \n",
        "    conda install numpy\n",
        "    \n",
        "**If you do not have Anaconda and can not install it, please refer to [Numpy's official documentation on various installation instructions.](http://docs.scipy.org/doc/numpy-1.10.1/user/install.html)**\n",
        "NOTE: If you are using COLABS you do not have to install numpy. It will be already installed.\n",
        "\n",
        "Exercises\n",
        "\n",
        "For this exercises, we assume that you have NumPy installed in your system.\n",
        "https://numpy.org/\n",
        "___"
      ]
    },
    {
      "cell_type": "markdown",
      "metadata": {
        "id": "Vuv6o4O9iyFu"
      },
      "source": [
        "# NumPy Exercises \n",
        "\n",
        "We'll start off with a few simple tasks, and then you'll be asked some more complicated questions."
      ]
    },
    {
      "cell_type": "markdown",
      "metadata": {
        "id": "XAS7S8KLiyFv"
      },
      "source": [
        "\n",
        "\n",
        "```\n",
        "# This is formatted as code\n",
        "```\n",
        "\n",
        "#### Import NumPy as np"
      ]
    },
    {
      "cell_type": "code",
      "execution_count": 53,
      "metadata": {
        "collapsed": true,
        "id": "vXbZnFzViyFy"
      },
      "outputs": [],
      "source": [
        "import numpy as np"
      ]
    },
    {
      "cell_type": "markdown",
      "metadata": {
        "id": "ySo4hYrYiyFy"
      },
      "source": [
        "#### Create an array of 10 zeros "
      ]
    },
    {
      "cell_type": "code",
      "execution_count": 54,
      "metadata": {
        "id": "9H0iK7O5iyFz",
        "outputId": "371f7506-e171-4e8a-cd91-683e56b86fa9",
        "colab": {
          "base_uri": "https://localhost:8080/"
        }
      },
      "outputs": [
        {
          "output_type": "stream",
          "name": "stdout",
          "text": [
            "Array: [0. 0. 0. 0. 0. 0. 0. 0. 0. 0.]\n"
          ]
        }
      ],
      "source": [
        "zeroArray = np.zeros(10)\n",
        "print(\"Array:\", zeroArray)"
      ]
    },
    {
      "cell_type": "markdown",
      "metadata": {
        "id": "-oGXuHTliyFz"
      },
      "source": [
        "#### Create an array of 10 ones"
      ]
    },
    {
      "cell_type": "code",
      "execution_count": 55,
      "metadata": {
        "id": "Z8SHIEhliyFz",
        "outputId": "baccb96c-e418-4872-9a01-e8a19dcbd304",
        "colab": {
          "base_uri": "https://localhost:8080/"
        }
      },
      "outputs": [
        {
          "output_type": "stream",
          "name": "stdout",
          "text": [
            "Array: [1. 1. 1. 1. 1. 1. 1. 1. 1. 1.]\n"
          ]
        }
      ],
      "source": [
        "oneArray = np.ones(10)\n",
        "print(\"Array:\", oneArray)"
      ]
    },
    {
      "cell_type": "markdown",
      "metadata": {
        "id": "TCpgiIb7iyF0"
      },
      "source": [
        "#### Create an array of 10 fives"
      ]
    },
    {
      "cell_type": "code",
      "execution_count": 56,
      "metadata": {
        "id": "23U7e-EwiyF1",
        "outputId": "75ee1bf5-6c9f-43b6-af49-c31b67729ca8",
        "colab": {
          "base_uri": "https://localhost:8080/"
        }
      },
      "outputs": [
        {
          "output_type": "stream",
          "name": "stdout",
          "text": [
            "Array: [5. 5. 5. 5. 5. 5. 5. 5. 5. 5.]\n"
          ]
        }
      ],
      "source": [
        "fiveArray = np.ones(10) * 5\n",
        "print(\"Array:\", fiveArray)"
      ]
    },
    {
      "cell_type": "markdown",
      "metadata": {
        "id": "_rpB-lYUiyF2"
      },
      "source": [
        "#### Create an array of the integers from 10 to 50"
      ]
    },
    {
      "cell_type": "code",
      "execution_count": 57,
      "metadata": {
        "id": "Z-aIVKnyiyF2",
        "outputId": "62249be5-1333-4c61-9449-bf182c7604c0",
        "colab": {
          "base_uri": "https://localhost:8080/"
        }
      },
      "outputs": [
        {
          "output_type": "stream",
          "name": "stdout",
          "text": [
            "Integers from 10 to 50: [10 11 12 13 14 15 16 17 18 19 20 21 22 23 24 25 26 27 28 29 30 31 32 33\n",
            " 34 35 36 37 38 39 40 41 42 43 44 45 46 47 48 49 50]\n"
          ]
        }
      ],
      "source": [
        "tenToFifty = np.arange(10, 51)\n",
        "print(\"Integers from 10 to 50:\", tenToFifty)"
      ]
    },
    {
      "cell_type": "markdown",
      "metadata": {
        "id": "AUF0N1gWiyF3"
      },
      "source": [
        "#### Create an array of all the even integers from 10 to 50"
      ]
    },
    {
      "cell_type": "code",
      "execution_count": 58,
      "metadata": {
        "id": "Wvgm8TM_iyF3",
        "outputId": "7165b540-5c5f-4411-8f9c-e3acd47a6225",
        "colab": {
          "base_uri": "https://localhost:8080/"
        }
      },
      "outputs": [
        {
          "output_type": "stream",
          "name": "stdout",
          "text": [
            "[10 12 14 16 18 20 22 24 26 28 30 32 34 36 38 40 42 44 46 48 50]\n"
          ]
        }
      ],
      "source": [
        "evenIntegers = np.arange(10, 51, 2) # We are using the Numpy built-in arrange func(), it takes 3 params: Stop, Start and Step. Since we are looking for 10 to 50 we use 10,51,2.\n",
        "print(evenIntegers) "
      ]
    },
    {
      "cell_type": "markdown",
      "metadata": {
        "id": "Pyk_KnkCiyF4"
      },
      "source": [
        "#### Create a 3x3 matrix with values ranging from 0 to 8"
      ]
    },
    {
      "cell_type": "code",
      "execution_count": 59,
      "metadata": {
        "id": "wK02nYeTiyF4",
        "outputId": "79633b96-40ba-44a6-bc6c-87125f783e32",
        "colab": {
          "base_uri": "https://localhost:8080/"
        }
      },
      "outputs": [
        {
          "output_type": "stream",
          "name": "stdout",
          "text": [
            "[[0 1 2]\n",
            " [3 4 5]\n",
            " [6 7 8]]\n"
          ]
        }
      ],
      "source": [
        "threeByThree = np.arange(9).reshape(3, 3)\n",
        "print(threeByThree)"
      ]
    },
    {
      "cell_type": "markdown",
      "metadata": {
        "id": "sxrLGVOAiyF4"
      },
      "source": [
        "#### Create a 3x3 identity matrix"
      ]
    },
    {
      "cell_type": "code",
      "execution_count": 60,
      "metadata": {
        "id": "L7SWGOpTiyF5",
        "outputId": "c39021c3-8c9f-4c5e-d804-028c3b8b242e",
        "colab": {
          "base_uri": "https://localhost:8080/"
        }
      },
      "outputs": [
        {
          "output_type": "stream",
          "name": "stdout",
          "text": [
            "[[1. 0. 0.]\n",
            " [0. 1. 0.]\n",
            " [0. 0. 1.]]\n"
          ]
        }
      ],
      "source": [
        "identityMatrix = np.eye(3)\n",
        "print(identityMatrix)"
      ]
    },
    {
      "cell_type": "markdown",
      "metadata": {
        "id": "BMViJ4zkiyF5"
      },
      "source": [
        "#### Use NumPy to generate a random number between 0 and 1"
      ]
    },
    {
      "cell_type": "code",
      "execution_count": 61,
      "metadata": {
        "id": "XPhBnMX4iyF6",
        "outputId": "80623dd8-36e1-4d6a-b403-631a6f6459d0",
        "colab": {
          "base_uri": "https://localhost:8080/"
        }
      },
      "outputs": [
        {
          "output_type": "stream",
          "name": "stdout",
          "text": [
            "Random number: 0.9371370613735187\n"
          ]
        }
      ],
      "source": [
        "randNum = np.random.rand()\n",
        "print(\"Random number:\", randNum)"
      ]
    },
    {
      "cell_type": "markdown",
      "metadata": {
        "id": "wFEKsdV5iyF6"
      },
      "source": [
        "#### Use NumPy to generate an array of 25 random numbers sampled from a standard normal distribution"
      ]
    },
    {
      "cell_type": "code",
      "execution_count": 62,
      "metadata": {
        "id": "kRHhxKUbiyF6",
        "outputId": "ac29b7c2-3b04-4773-f951-d59e39b9b796",
        "colab": {
          "base_uri": "https://localhost:8080/"
        }
      },
      "outputs": [
        {
          "output_type": "stream",
          "name": "stdout",
          "text": [
            "Array:\n",
            "[ 0.61782617 -0.32240805  0.3635288  -0.325866    0.22972479  0.19154602\n",
            " -0.82184181  0.06383991 -1.14151851  1.05134955  0.53675495  0.47927959\n",
            " -0.82736719  0.97486524 -0.18881974 -0.20469574 -0.41024261 -0.0561444\n",
            " -1.23377147  0.46942591  0.32982446  0.11426678 -0.07906567 -1.09052956\n",
            " -0.25439889]\n"
          ]
        }
      ],
      "source": [
        "randNum = np.random.randn(25)\n",
        "print(\"Array:\")\n",
        "print(randNum)"
      ]
    },
    {
      "cell_type": "markdown",
      "metadata": {
        "id": "IujFFNHUiyF6"
      },
      "source": [
        "#### Create the following matrix:"
      ]
    },
    {
      "cell_type": "code",
      "execution_count": 63,
      "metadata": {
        "id": "axlR3TxliyF7",
        "outputId": "5e95b808-f06d-4cf6-b1e3-a93523bbccd8",
        "colab": {
          "base_uri": "https://localhost:8080/"
        }
      },
      "outputs": [
        {
          "output_type": "stream",
          "name": "stdout",
          "text": [
            "[[0.01 0.02 0.03 0.04 0.05 0.06 0.07 0.08 0.09 0.1 ]\n",
            " [0.11 0.12 0.13 0.14 0.15 0.16 0.17 0.18 0.19 0.2 ]\n",
            " [0.21 0.22 0.23 0.24 0.25 0.26 0.27 0.28 0.29 0.3 ]\n",
            " [0.31 0.32 0.33 0.34 0.35 0.36 0.37 0.38 0.39 0.4 ]\n",
            " [0.41 0.42 0.43 0.44 0.45 0.46 0.47 0.48 0.49 0.5 ]\n",
            " [0.51 0.52 0.53 0.54 0.55 0.56 0.57 0.58 0.59 0.6 ]\n",
            " [0.61 0.62 0.63 0.64 0.65 0.66 0.67 0.68 0.69 0.7 ]\n",
            " [0.71 0.72 0.73 0.74 0.75 0.76 0.77 0.78 0.79 0.8 ]\n",
            " [0.81 0.82 0.83 0.84 0.85 0.86 0.87 0.88 0.89 0.9 ]\n",
            " [0.91 0.92 0.93 0.94 0.95 0.96 0.97 0.98 0.99 1.  ]]\n"
          ]
        }
      ],
      "source": [
        "start = 0.01 # 0.1 increments\n",
        "stop = 1.0 # set our stop\n",
        "step = 0.01 # initalise our step\n",
        "\n",
        "pointMatrix = np.arange(start, stop + step, step).reshape(10, 10)\n",
        "print(pointMatrix)"
      ]
    },
    {
      "cell_type": "markdown",
      "metadata": {
        "id": "qNC_mFeLiyF7"
      },
      "source": [
        "#### Create an array of 20 linearly spaced points between 0 and 1:"
      ]
    },
    {
      "cell_type": "code",
      "execution_count": 64,
      "metadata": {
        "id": "OD_J65TDiyF7",
        "outputId": "bc79e62a-37a8-4236-dd1e-051556647a58",
        "colab": {
          "base_uri": "https://localhost:8080/"
        }
      },
      "outputs": [
        {
          "output_type": "execute_result",
          "data": {
            "text/plain": [
              "array([0.        , 0.05263158, 0.10526316, 0.15789474, 0.21052632,\n",
              "       0.26315789, 0.31578947, 0.36842105, 0.42105263, 0.47368421,\n",
              "       0.52631579, 0.57894737, 0.63157895, 0.68421053, 0.73684211,\n",
              "       0.78947368, 0.84210526, 0.89473684, 0.94736842, 1.        ])"
            ]
          },
          "metadata": {},
          "execution_count": 64
        }
      ],
      "source": [
        "np.linspace(0, 1, 20)"
      ]
    },
    {
      "cell_type": "markdown",
      "metadata": {
        "id": "jyr89brBiyF8"
      },
      "source": [
        "## Numpy Indexing and Selection\n",
        "\n",
        "Now you will be given a few matrices, and be asked to replicate the resulting matrix outputs:"
      ]
    },
    {
      "cell_type": "code",
      "execution_count": 65,
      "metadata": {
        "id": "n1uCVOnUiyF8",
        "outputId": "d9c2ec95-4649-4b5b-faee-75dfe3bc0d4d",
        "colab": {
          "base_uri": "https://localhost:8080/"
        }
      },
      "outputs": [
        {
          "output_type": "execute_result",
          "data": {
            "text/plain": [
              "array([[ 1,  2,  3,  4,  5],\n",
              "       [ 6,  7,  8,  9, 10],\n",
              "       [11, 12, 13, 14, 15],\n",
              "       [16, 17, 18, 19, 20],\n",
              "       [21, 22, 23, 24, 25]])"
            ]
          },
          "metadata": {},
          "execution_count": 65
        }
      ],
      "source": [
        "mat = np.arange(1,26).reshape(5,5)\n",
        "mat"
      ]
    },
    {
      "cell_type": "code",
      "execution_count": 66,
      "metadata": {
        "collapsed": true,
        "id": "eLYdFKcLiyF8",
        "colab": {
          "base_uri": "https://localhost:8080/"
        },
        "outputId": "b8276cac-dd9a-489a-a939-2ecba88c1070"
      },
      "outputs": [
        {
          "output_type": "stream",
          "name": "stdout",
          "text": [
            "[[12 13 14 15]\n",
            " [17 18 19 20]\n",
            " [22 23 24 25]]\n"
          ]
        }
      ],
      "source": [
        "resultOne = mat[2:, 1:]\n",
        "print(resultOne)"
      ]
    },
    {
      "cell_type": "code",
      "execution_count": 66,
      "metadata": {
        "id": "Z46vO0q9iyF9"
      },
      "outputs": [],
      "source": []
    },
    {
      "cell_type": "code",
      "execution_count": 67,
      "metadata": {
        "collapsed": true,
        "id": "JyEs-QUbiyF9",
        "colab": {
          "base_uri": "https://localhost:8080/"
        },
        "outputId": "57477141-39b6-4fe1-a13f-af9cab82ef62"
      },
      "outputs": [
        {
          "output_type": "stream",
          "name": "stdout",
          "text": [
            "20\n"
          ]
        }
      ],
      "source": [
        "findTwenty = mat[3, 4]\n",
        "print(findTwenty)"
      ]
    },
    {
      "cell_type": "code",
      "execution_count": 67,
      "metadata": {
        "id": "s5VbBFYriyF9"
      },
      "outputs": [],
      "source": []
    },
    {
      "cell_type": "code",
      "execution_count": 68,
      "metadata": {
        "collapsed": true,
        "id": "rSw3Gq_viyF9",
        "colab": {
          "base_uri": "https://localhost:8080/"
        },
        "outputId": "460668af-e2d6-4175-9537-2b3af5c40586"
      },
      "outputs": [
        {
          "output_type": "stream",
          "name": "stdout",
          "text": [
            "[[ 2]\n",
            " [ 7]\n",
            " [12]]\n"
          ]
        }
      ],
      "source": [
        "newMatrix = mat[[0,1,2],[1,1,1]]\n",
        "newMatrix = newMatrix[:, np.newaxis]\n",
        "print(newMatrix)"
      ]
    },
    {
      "cell_type": "code",
      "execution_count": 68,
      "metadata": {
        "id": "4dfeytlaiyF-"
      },
      "outputs": [],
      "source": []
    },
    {
      "cell_type": "code",
      "execution_count": 69,
      "metadata": {
        "collapsed": true,
        "id": "JKROsUBdiyF-",
        "colab": {
          "base_uri": "https://localhost:8080/"
        },
        "outputId": "98a61d41-04c8-49d8-f7db-81ff1dccafc0"
      },
      "outputs": [
        {
          "output_type": "stream",
          "name": "stdout",
          "text": [
            "[21 22 23 24 25]\n"
          ]
        }
      ],
      "source": [
        "flatMatrix = mat[4, :,]\n",
        "print(flatMatrix)"
      ]
    },
    {
      "cell_type": "code",
      "execution_count": 69,
      "metadata": {
        "id": "-E3UysRKiyF-"
      },
      "outputs": [],
      "source": []
    },
    {
      "cell_type": "code",
      "execution_count": 70,
      "metadata": {
        "collapsed": true,
        "id": "t7SdONn8iyF-",
        "colab": {
          "base_uri": "https://localhost:8080/"
        },
        "outputId": "54a6b08d-0597-4aea-98b6-bb83fe6a13da"
      },
      "outputs": [
        {
          "output_type": "stream",
          "name": "stdout",
          "text": [
            "[[16 17 18 19 20]\n",
            " [21 22 23 24 25]]\n"
          ]
        }
      ],
      "source": [
        "twoByTwo = mat[3:,:]\n",
        "print(twoByTwo)"
      ]
    },
    {
      "cell_type": "code",
      "execution_count": 70,
      "metadata": {
        "id": "hKWUtX37iyF_"
      },
      "outputs": [],
      "source": []
    },
    {
      "cell_type": "markdown",
      "metadata": {
        "id": "5my8SbIOiyF_"
      },
      "source": [
        "### Now do the following"
      ]
    },
    {
      "cell_type": "markdown",
      "metadata": {
        "id": "xgfGDPMriyF_"
      },
      "source": [
        "#### Get the sum of all the values in mat"
      ]
    },
    {
      "cell_type": "code",
      "execution_count": 71,
      "metadata": {
        "id": "PSnEC84OiyF_",
        "outputId": "5a5c294b-c9b8-4026-8349-b9e7eb24fe46",
        "colab": {
          "base_uri": "https://localhost:8080/"
        }
      },
      "outputs": [
        {
          "output_type": "stream",
          "name": "stdout",
          "text": [
            "Sum: 325\n"
          ]
        }
      ],
      "source": [
        "sumValues = np.sum(mat)\n",
        "print('Sum:', sumValues)"
      ]
    },
    {
      "cell_type": "markdown",
      "metadata": {
        "id": "JjvrWiCPiyF_"
      },
      "source": [
        "#### Get the standard deviation of the values in mat"
      ]
    },
    {
      "cell_type": "code",
      "execution_count": 72,
      "metadata": {
        "id": "-MNanqCDiyGA",
        "outputId": "a97cb9b8-6366-4ed4-d169-04e9d3ff8372",
        "colab": {
          "base_uri": "https://localhost:8080/"
        }
      },
      "outputs": [
        {
          "output_type": "stream",
          "name": "stdout",
          "text": [
            "Standard Deviation: 7.211102550927978\n"
          ]
        }
      ],
      "source": [
        "STD = np.std(mat) # built in std measurement\n",
        "print('Standard Deviation:', STD)"
      ]
    },
    {
      "cell_type": "markdown",
      "metadata": {
        "id": "eDAVXNeJiyGA"
      },
      "source": [
        "#### Get the sum of all the columns in mat"
      ]
    },
    {
      "cell_type": "code",
      "execution_count": 73,
      "metadata": {
        "id": "Uf0E3jJJiyGA",
        "outputId": "623a8aa4-a3b3-4065-f802-6b0728823f85",
        "colab": {
          "base_uri": "https://localhost:8080/"
        }
      },
      "outputs": [
        {
          "output_type": "stream",
          "name": "stdout",
          "text": [
            "Array: [55 60 65 70 75]\n"
          ]
        }
      ],
      "source": [
        "sumColunmz = np.sum(mat, axis=0)\n",
        "print('Array:', sumColunmz)\n"
      ]
    }
  ],
  "metadata": {
    "kernelspec": {
      "display_name": "Python 3",
      "language": "python",
      "name": "python3"
    },
    "language_info": {
      "codemirror_mode": {
        "name": "ipython",
        "version": 3
      },
      "file_extension": ".py",
      "mimetype": "text/x-python",
      "name": "python",
      "nbconvert_exporter": "python",
      "pygments_lexer": "ipython3",
      "version": "3.5.1"
    },
    "colab": {
      "provenance": []
    }
  },
  "nbformat": 4,
  "nbformat_minor": 0
}